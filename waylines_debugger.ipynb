{
 "cells": [
  {
   "cell_type": "code",
   "execution_count": 39,
   "metadata": {},
   "outputs": [],
   "source": [
    "import numpy as np\n",
    "# imports for file path handling\n",
    "import os\n",
    "import sys\n",
    "from pathlib import Path\n",
    "sys.path.append(Path(os.getcwd()).parent.as_posix())\n",
    "from ROAR.utilities_module.occupancy_map import OccupancyGridMap\n",
    "from pathlib import Path\n",
    "import logging\n",
    "from pathlib import Path\n",
    "from ROAR_Sim.configurations.configuration import Configuration as CarlaConfig\n",
    "from ROAR_Sim.carla_client.carla_runner import CarlaRunner\n",
    "from ROAR.agent_module.pure_pursuit_agent import PurePursuitAgent\n",
    "from ROAR.configurations.configuration import Configuration as AgentConfig\n",
    "from ROAR.agent_module.michael_pid_agent import PIDAgent\n",
    "from ROAR.agent_module.rl_e2e_ppo_agent import RLe2ePPOAgent\n",
    "from ROAR.agent_module.special_agents.waypoint_generating_agent import WaypointGeneratigAgent\n",
    "from ROAR.agent_module.special_agents.recording_agent import RecordingAgent\n",
    "import argparse\n",
    "# from misc.utils import str2bool\n",
    "from ROAR.utilities_module.data_structures_models import Transform, Location, Rotation\n",
    "import cv2\n",
    "%matplotlib inline\n",
    "import matplotlib.pyplot as plt\n",
    "from collections import deque"
   ]
  },
  {
   "cell_type": "code",
   "execution_count": 40,
   "metadata": {},
   "outputs": [],
   "source": [
    "agent_config = AgentConfig.parse_file(Path(\"./agent_configuration_debugger.json\"))\n",
    "agent = PIDAgent(vehicle=None, agent_settings=agent_config)\n",
    "\n",
    "loadmap = OccupancyGridMap(agent)\n",
    "#loadmap.load_from_file(Path(\"C://Users//roar//Desktop//ROAR_record//ROAR_record//data//output//occupancy_map//occu_map.npy\"))\n",
    "loadmap.load_from_file(Path(\"./ROAR_Sim/data/final3.npy\"))"
   ]
  },
  {
   "cell_type": "markdown",
   "metadata": {},
   "source": [
    "# 1. Get the Waypoints"
   ]
  },
  {
   "cell_type": "code",
   "execution_count": 76,
   "metadata": {},
   "outputs": [
    {
     "name": "stdout",
     "output_type": "stream",
     "text": [
      "27256\n"
     ]
    }
   ],
   "source": [
    "file = open(\"./ROAR_Sim/data/final_major_map_waypoints.txt\")\n",
    "full_list = []\n",
    "for r in file:\n",
    "    cur_list = []\n",
    "    seg = r.rstrip().split(',')\n",
    "    for item in seg:\n",
    "        cur_list.append(float(item))\n",
    "    full_list.append(cur_list)\n",
    "\n",
    "mission_plan = deque(maxlen=len(full_list))\n",
    "for pt in full_list:\n",
    "    tran = Transform(\n",
    "                location=Location(x = pt[0], y = pt[1], z = pt[2]),\n",
    "                rotation=Rotation(pitch = 0, yaw = 0, roll = 0),\n",
    "            )\n",
    "    mission_plan.append(tran)\n",
    "# waypoints = np.array(full_list)\n",
    "print(len(mission_plan))"
   ]
  },
  {
   "cell_type": "code",
   "execution_count": 77,
   "metadata": {},
   "outputs": [
    {
     "name": "stdout",
     "output_type": "stream",
     "text": [
      "Location: x: 2.44e+03, y: 1.02e+02, z: 4.09e+03 | Rotation: Roll: 0.0, Pitch: 0.0, Yaw: 0.0\n",
      "Location: x: 2.44e+03, y: 1.01e+02, z: 4.09e+03 | Rotation: Roll: 0.0, Pitch: 0.0, Yaw: 0.0\n",
      "finished all the iterations!\n"
     ]
    }
   ],
   "source": [
    "# get all boxes:\n",
    "from ROAR.agent_module.rl_e2e_ppo_agent import LineBBox\n",
    "reward_list = [0.499 for _ in range(20)]\n",
    "bboxes_list = []\n",
    "def get_all_bbox():\n",
    "\n",
    "        local_int_counter = 0\n",
    "        curr_lb = 5\n",
    "        curr_idx = local_int_counter * 20\n",
    "        while curr_idx + curr_lb < len(mission_plan):\n",
    "            # if len(bboxes_list) == 48:\n",
    "            #     return\n",
    "\n",
    "            if curr_lb > 10:\n",
    "                local_int_counter += 1\n",
    "                curr_lb = 5\n",
    "                curr_idx = local_int_counter * 20\n",
    "                continue\n",
    "\n",
    "            t1 = mission_plan[curr_idx]\n",
    "            t2 = mission_plan[curr_idx + curr_lb]\n",
    "\n",
    "            dx = t2.location.x - t1.location.x\n",
    "            dz = t2.location.z - t1.location.z\n",
    "            if abs(dx) < 1e-3 and abs(dz) < 1e-3:\n",
    "                curr_lb += 1\n",
    "            else:\n",
    "                if len(bboxes_list) == 47:\n",
    "                    print(t1)\n",
    "                    print(t2)\n",
    "                bboxes_list.append(LineBBox(t1, t2, reward_list, True))\n",
    "                local_int_counter += 1\n",
    "                curr_lb = 5\n",
    "                curr_idx = local_int_counter * 20\n",
    "        # no next bbox\n",
    "        print(\"finished all the iterations!\")\n",
    "        #self.finished = True\n",
    "get_all_bbox()"
   ]
  },
  {
   "cell_type": "code",
   "execution_count": 78,
   "metadata": {},
   "outputs": [
    {
     "data": {
      "text/plain": [
       "1359"
      ]
     },
     "execution_count": 78,
     "metadata": {},
     "output_type": "execute_result"
    }
   ],
   "source": [
    "len(bboxes_list)"
   ]
  },
  {
   "cell_type": "markdown",
   "metadata": {},
   "source": [
    "# 2. start testing"
   ]
  },
  {
   "cell_type": "code",
   "execution_count": 81,
   "metadata": {},
   "outputs": [
    {
     "data": {
      "text/plain": [
       "<matplotlib.image.AxesImage at 0x18001015280>"
      ]
     },
     "execution_count": 81,
     "metadata": {},
     "output_type": "execute_result"
    },
    {
     "data": {
      "image/png": "[encoded data removed]",
      "text/plain": [
       "<Figure size 432x288 with 1 Axes>"
      ]
     },
     "metadata": {
      "needs_background": "light"
     },
     "output_type": "display_data"
    }
   ],
   "source": [
    "\n",
    "def test_map(map, transform, waylines_list):\n",
    "    map_to_view = map._map\n",
    "    yaw = -transform.rotation.yaw\n",
    "    occu_cord = map.location_to_occu_cord(location=transform.location)\n",
    "    x, y = occu_cord[0]\n",
    "    first_cut_size = (200, 200)\n",
    "    map_to_view = map_to_view[y - first_cut_size[1] // 2: y + first_cut_size[1] // 2,\n",
    "                x - first_cut_size[0] // 2: x + first_cut_size[0] // 2].copy()\n",
    "\n",
    "    for bbox in waylines_list:\n",
    "            coord = [map.location_to_occu_cord(location=location)[0] for location in bbox.get_visualize_locs()]\n",
    "            coord = np.array(coord)\n",
    "            coord += [(first_cut_size[0] // 2) - x, (first_cut_size[1] // 2) - y]\n",
    "            coord = coord.swapaxes(0, 1)\n",
    "            coord[[0, 1]] = coord[[1, 0]]\n",
    "            if any(coord[0] <= 0) or any(coord[1]<=0):\n",
    "                continue\n",
    "\n",
    "            # print(coord)\n",
    "            try:\n",
    "                map_to_view[tuple(coord)] += bbox.get_value()\n",
    "            except:\n",
    "                pass\n",
    "\n",
    "    return map_to_view\n",
    "\n",
    "\n",
    "spawn_int_map = np.array([91, 0, 140, 224, 312, 442, 556, 730, 782, 898, 1142, 1283, 39])\n",
    "spwan_pt = 12\n",
    "start_index = spawn_int_map[spwan_pt]\n",
    "start_index = 39\n",
    "numer_to_show = 200\n",
    "first_wayline = bboxes_list[start_index]\n",
    "centered_transform = Transform(location = Location(x = first_wayline.x1, y = 0, z = first_wayline.z1), rotation=Rotation(pitch = 0, yaw = 0, roll = 0))\n",
    "plt.imshow(test_map(loadmap, centered_transform, bboxes_list[start_index : start_index + numer_to_show]))"
   ]
  },
  {
   "cell_type": "code",
   "execution_count": 70,
   "metadata": {},
   "outputs": [
    {
     "name": "stdout",
     "output_type": "stream",
     "text": [
      "2443.861328125 4086.664794921875 2436.98583984375 4087.7177734375\n"
     ]
    }
   ],
   "source": [
    "last = bboxes_list[-1]\n",
    "print(last.x1, last.z1, last.x2, last.z2)"
   ]
  },
  {
   "cell_type": "code",
   "execution_count": 48,
   "metadata": {},
   "outputs": [
    {
     "name": "stdout",
     "output_type": "stream",
     "text": [
      "[[2590 4373]\n",
      " [2589 4374]\n",
      " [2591 4373]\n",
      " [2592 4373]\n",
      " [2593 4373]\n",
      " [2594 4373]\n",
      " [2595 4372]\n",
      " [2596 4372]\n",
      " [2598 4372]\n",
      " [2599 4372]\n",
      " [2600 4372]\n",
      " [2601 4372]\n",
      " [2602 4371]\n",
      " [2603 4371]\n",
      " [2604 4371]\n",
      " [2605 4371]\n",
      " [2606 4371]\n",
      " [2607 4370]\n",
      " [2608 4370]\n",
      " [2609 4370]]\n"
     ]
    },
    {
     "data": {
      "text/plain": [
       "<matplotlib.image.AxesImage at 0x18022011220>"
      ]
     },
     "execution_count": 48,
     "metadata": {},
     "output_type": "execute_result"
    },
    {
     "data": {
      "image/png": "[encoded data removed]",
      "text/plain": [
       "<Figure size 432x288 with 1 Axes>"
      ]
     },
     "metadata": {
      "needs_background": "light"
     },
     "output_type": "display_data"
    }
   ],
   "source": []
  },
  {
   "cell_type": "code",
   "execution_count": null,
   "metadata": {},
   "outputs": [],
   "source": []
  },
  {
   "cell_type": "code",
   "execution_count": null,
   "metadata": {},
   "outputs": [],
   "source": [
    "start_index = 0\n",
    "delta = 20\n",
    "vt_queue = deque([None, None, None], maxlen=4)\n",
    "for i in range(4):\n",
    "    local_transform = Transform.from_array(waypoints[start_index + i * delta])\n",
    "    vt_queue.append(local_transform)\n",
    "#local_map = loadmap.get_map(transform = local_transform)\n",
    "local_map = loadmap.get_map_baseline(vt_queue, view_size=(100, 100), boundary_size=(20, 20))\n",
    "# local_map = cv2.resize(local_map, (1000, 1000))\n",
    "# cv2.imshow(\"local_map\", local_map) # uncomment to show occu map\n",
    "# cv2.waitKey(0)\n"
   ]
  },
  {
   "cell_type": "code",
   "execution_count": null,
   "metadata": {},
   "outputs": [],
   "source": [
    "cv2.destroyAllWindows()"
   ]
  }
 ],
 "metadata": {
  "kernelspec": {
   "display_name": "Python 3.8.13 ('ROAR_Major')",
   "language": "python",
   "name": "python3"
  },
  "language_info": {
   "codemirror_mode": {
    "name": "ipython",
    "version": 3
   },
   "file_extension": ".py",
   "mimetype": "text/x-python",
   "name": "python",
   "nbconvert_exporter": "python",
   "pygments_lexer": "ipython3",
   "version": "3.8.13"
  },
  "orig_nbformat": 4,
  "vscode": {
   "interpreter": {
    "hash": "3b7f5c147f2500f1f3cc88a318ada3611c337eabfb9d3ed405725589f8feb9f8"
   }
  }
 },
 "nbformat": 4,
 "nbformat_minor": 2
}
