{
 "cells": [
  {
   "cell_type": "code",
   "execution_count": 1,
   "metadata": {},
   "outputs": [
    {
     "name": "stdout",
     "output_type": "stream",
     "text": [
      "pygame 1.9.6\n",
      "Hello from the pygame community. https://www.pygame.org/contribute.html\n"
     ]
    }
   ],
   "source": [
    "import numpy as np\n",
    "from ROAR.utilities_module.occupancy_map import OccupancyGridMap\n",
    "from pathlib import Path\n",
    "import logging\n",
    "from pathlib import Path\n",
    "from ROAR_Sim.configurations.configuration import Configuration as CarlaConfig\n",
    "from ROAR_Sim.carla_client.carla_runner import CarlaRunner\n",
    "from ROAR.agent_module.pure_pursuit_agent import PurePursuitAgent\n",
    "from ROAR.configurations.configuration import Configuration as AgentConfig\n",
    "from ROAR.agent_module.michael_pid_agent import PIDAgent\n",
    "from ROAR.agent_module.rl_prep_agent import RLPrepAgent\n",
    "from ROAR.agent_module.special_agents.waypoint_generating_agent import WaypointGeneratigAgent\n",
    "from ROAR.agent_module.special_agents.recording_agent import RecordingAgent\n",
    "import argparse\n",
    "from misc.utils import str2bool\n",
    "from ROAR.utilities_module.data_structures_models import Transform, Location\n",
    "import cv2"
   ]
  },
  {
   "cell_type": "code",
   "execution_count": 7,
   "metadata": {},
   "outputs": [
    {
     "data": {
      "text/plain": [
       "array([2599.19995117,  104.74610138, 4372.60009766,    0.        ,\n",
       "          0.        ,   10.00061798])"
      ]
     },
     "execution_count": 7,
     "metadata": {},
     "output_type": "execute_result"
    }
   ],
   "source": [
    "#file = open(\"C://Users//roar//Desktop//ROAR_record//ROAR_record//data//output//border_waypoints//right_side_major_map_waypoints.txt\")\n",
    "file = open(\".//data//waypoints//major_map_waypoints2.txt\")\n",
    "full_list = []\n",
    "for r in file:\n",
    "    cur_list = []\n",
    "    seg = r.rstrip().split(',')\n",
    "    for item in seg:\n",
    "        cur_list.append(float(item))\n",
    "    full_list.append(cur_list)\n",
    "waypoints = np.array(full_list)\n",
    "#waypoints[:, 3:] = [0, 0, 0]\n",
    "#waypoints[:, :3] += np.array([50, -8, 295])\n",
    "waypoints[0]"
   ]
  },
  {
   "cell_type": "code",
   "execution_count": 8,
   "metadata": {},
   "outputs": [
    {
     "name": "stdout",
     "output_type": "stream",
     "text": [
      "[2599.19995117  104.74610138 4372.60009766    0.            0.\n",
      "   10.00061798]\n"
     ]
    }
   ],
   "source": [
    "len(waypoints)\n",
    "print(waypoints[0])"
   ]
  },
  {
   "cell_type": "code",
   "execution_count": 9,
   "metadata": {},
   "outputs": [],
   "source": [
    "agent_config = AgentConfig.parse_file(Path(\"./ROAR/configurations/carla/carla_agent_configuration.json\"))\n",
    "agent = PIDAgent(vehicle=None, agent_settings=agent_config)\n",
    "\n",
    "loadmap = OccupancyGridMap(agent)\n",
    "#loadmap.load_from_file(Path(\"C://Users//roar//Desktop//ROAR_record//ROAR_record//data//output//occupancy_map//occu_map.npy\"))\n",
    "loadmap.load_from_file(Path(\"data//cleaned_occ_map//berkeley_major_cleaned_occu_map.npy\"))"
   ]
  },
  {
   "cell_type": "code",
   "execution_count": 10,
   "metadata": {},
   "outputs": [],
   "source": [
    "local_transform = Transform.from_array(waypoints[0])\n",
    "#local_map = loadmap.get_map(transform = local_transform)\n",
    "local_map = loadmap.get_map(transform = local_transform, view_size=(100, 100), boundary_size=(20, 20), show_agent= True)\n",
    "cv2.imshow(\"local_map\", local_map) # uncomment to show occu map\n",
    "cv2.waitKey(0)\n",
    "cv2.destroyAllWindows()"
   ]
  },
  {
   "cell_type": "code",
   "execution_count": 13,
   "metadata": {},
   "outputs": [
    {
     "ename": "KeyboardInterrupt",
     "evalue": "",
     "output_type": "error",
     "traceback": [
      "\u001b[1;31m---------------------------------------------------------------------------\u001b[0m",
      "\u001b[1;31mKeyboardInterrupt\u001b[0m                         Traceback (most recent call last)",
      "\u001b[1;32mc:\\Users\\roar\\Desktop\\ROAR_record_TL\\ROAR_record\\test_wp_maps.ipynb Cell 6'\u001b[0m in \u001b[0;36m<cell line: 3>\u001b[1;34m()\u001b[0m\n\u001b[0;32m      <a href='vscode-notebook-cell:/c%3A/Users/roar/Desktop/ROAR_record_TL/ROAR_record/test_wp_maps.ipynb#ch0000005?line=5'>6</a>\u001b[0m loadmap\u001b[39m.\u001b[39mupdate_to_one(np\u001b[39m.\u001b[39marray([waypoints[i\u001b[39m*\u001b[39mk][:\u001b[39m3\u001b[39m]]))\n\u001b[0;32m      <a href='vscode-notebook-cell:/c%3A/Users/roar/Desktop/ROAR_record_TL/ROAR_record/test_wp_maps.ipynb#ch0000005?line=6'>7</a>\u001b[0m transform \u001b[39m=\u001b[39m Transform\u001b[39m.\u001b[39mfrom_array(waypoints[k\u001b[39m*\u001b[39mi])\n\u001b[1;32m----> <a href='vscode-notebook-cell:/c%3A/Users/roar/Desktop/ROAR_record_TL/ROAR_record/test_wp_maps.ipynb#ch0000005?line=7'>8</a>\u001b[0m local_map \u001b[39m=\u001b[39m loadmap\u001b[39m.\u001b[39;49mget_map(transform \u001b[39m=\u001b[39;49m transform)\n\u001b[0;32m      <a href='vscode-notebook-cell:/c%3A/Users/roar/Desktop/ROAR_record_TL/ROAR_record/test_wp_maps.ipynb#ch0000005?line=8'>9</a>\u001b[0m \u001b[39m# x, y = points[0], points[2]\u001b[39;00m\n\u001b[0;32m     <a href='vscode-notebook-cell:/c%3A/Users/roar/Desktop/ROAR_record_TL/ROAR_record/test_wp_maps.ipynb#ch0000005?line=9'>10</a>\u001b[0m cv2\u001b[39m.\u001b[39mimshow(\u001b[39m\"\u001b[39m\u001b[39mlocal_map\u001b[39m\u001b[39m\"\u001b[39m, local_map) \u001b[39m# uncomment to show occu map\u001b[39;00m\n",
      "File \u001b[1;32mc:\\Users\\roar\\Desktop\\ROAR_record_TL\\ROAR_record\\ROAR\\utilities_module\\occupancy_map.py:291\u001b[0m, in \u001b[0;36mOccupancyGridMap.get_map\u001b[1;34m(self, transform, show_agent, view_size, boundary_size, vehicle_value, arbitrary_locations, arbitrary_point_value)\u001b[0m\n\u001b[0;32m    <a href='file:///c%3A/Users/roar/Desktop/ROAR_record_TL/ROAR_record/ROAR/utilities_module/occupancy_map.py?line=288'>289</a>\u001b[0m     \u001b[39mreturn\u001b[39;00m np\u001b[39m.\u001b[39mfloat32(\u001b[39mself\u001b[39m\u001b[39m.\u001b[39m_map\u001b[39m.\u001b[39mcopy())\n\u001b[0;32m    <a href='file:///c%3A/Users/roar/Desktop/ROAR_record_TL/ROAR_record/ROAR/utilities_module/occupancy_map.py?line=289'>290</a>\u001b[0m \u001b[39melse\u001b[39;00m:\n\u001b[1;32m--> <a href='file:///c%3A/Users/roar/Desktop/ROAR_record_TL/ROAR_record/ROAR/utilities_module/occupancy_map.py?line=290'>291</a>\u001b[0m     map_to_view \u001b[39m=\u001b[39m np\u001b[39m.\u001b[39mfloat32(\u001b[39mself\u001b[39;49m\u001b[39m.\u001b[39;49m_map\u001b[39m.\u001b[39;49mcopy())\n\u001b[0;32m    <a href='file:///c%3A/Users/roar/Desktop/ROAR_record_TL/ROAR_record/ROAR/utilities_module/occupancy_map.py?line=291'>292</a>\u001b[0m     \u001b[39mif\u001b[39;00m show_agent:\n\u001b[0;32m    <a href='file:///c%3A/Users/roar/Desktop/ROAR_record_TL/ROAR_record/ROAR/utilities_module/occupancy_map.py?line=292'>293</a>\u001b[0m         location \u001b[39m=\u001b[39m transform\u001b[39m.\u001b[39mlocation\u001b[39m.\u001b[39mto_array()\n",
      "\u001b[1;31mKeyboardInterrupt\u001b[0m: "
     ]
    }
   ],
   "source": [
    "count = 0\n",
    "k = 10\n",
    "for i in range(len(waypoints)//k):\n",
    "    #count += 1\n",
    "    #print(waypoints[k*i])\n",
    "    loadmap.update_to_one(np.array([waypoints[i*k][:3]]))\n",
    "    transform = Transform.from_array(waypoints[k*i])\n",
    "    local_map = loadmap.get_map(transform = transform)\n",
    "    # x, y = points[0], points[2]\n",
    "    cv2.imshow(\"local_map\", local_map) # uncomment to show occu map\n",
    "    cv2.waitKey(1)\n",
    "    #cv2.destroyAllWindows()\n",
    "cv2.destroyAllWindows()\n",
    "print(count)"
   ]
  },
  {
   "cell_type": "code",
   "execution_count": null,
   "metadata": {},
   "outputs": [],
   "source": []
  }
 ],
 "metadata": {
  "interpreter": {
   "hash": "626f6e277b9372fb8efa42c72dc314944a644c8a833ea89de2c08afd69c9b67d"
  },
  "kernelspec": {
   "display_name": "Python 3.8.0 ('ROAR_major_map')",
   "language": "python",
   "name": "python3"
  },
  "language_info": {
   "codemirror_mode": {
    "name": "ipython",
    "version": 3
   },
   "file_extension": ".py",
   "mimetype": "text/x-python",
   "name": "python",
   "nbconvert_exporter": "python",
   "pygments_lexer": "ipython3",
   "version": "3.8.12"
  },
  "orig_nbformat": 4
 },
 "nbformat": 4,
 "nbformat_minor": 2
}
